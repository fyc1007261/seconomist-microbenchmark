{
 "cells": [
  {
   "cell_type": "code",
   "execution_count": 2,
   "id": "dfe1e97b",
   "metadata": {},
   "outputs": [],
   "source": [
    "import pandas as pd\n",
    "import numpy as np\n",
    "import matplotlib.pyplot as plt"
   ]
  },
  {
   "cell_type": "code",
   "execution_count": 6,
   "metadata": {},
   "outputs": [],
   "source": [
    "# line = \" \" \n",
    "# with open(\"results.csv\", 'r') as f:\n",
    "#     with open(\"results-new.csv\", 'w') as fout:\n",
    "#         while line != None:\n",
    "#             # try:\n",
    "#             line = f.readline()\n",
    "#             if line[0:6] == \"client\":\n",
    "#                 fout.write(line)\n",
    "#             # except Exception as e:\n",
    "#             #     f.seek()\n"
   ]
  },
  {
   "cell_type": "code",
   "execution_count": 3,
   "metadata": {},
   "outputs": [
    {
     "data": {
      "text/html": [
       "<div>\n",
       "<style scoped>\n",
       "    .dataframe tbody tr th:only-of-type {\n",
       "        vertical-align: middle;\n",
       "    }\n",
       "\n",
       "    .dataframe tbody tr th {\n",
       "        vertical-align: top;\n",
       "    }\n",
       "\n",
       "    .dataframe thead th {\n",
       "        text-align: right;\n",
       "    }\n",
       "</style>\n",
       "<table border=\"1\" class=\"dataframe\">\n",
       "  <thead>\n",
       "    <tr style=\"text-align: right;\">\n",
       "      <th></th>\n",
       "      <th>0</th>\n",
       "      <th>1</th>\n",
       "      <th>2</th>\n",
       "    </tr>\n",
       "  </thead>\n",
       "  <tbody>\n",
       "    <tr>\n",
       "      <th>0</th>\n",
       "      <td>client1</td>\n",
       "      <td>1701465886</td>\n",
       "      <td>26716</td>\n",
       "    </tr>\n",
       "    <tr>\n",
       "      <th>1</th>\n",
       "      <td>client1</td>\n",
       "      <td>1701465887</td>\n",
       "      <td>26668</td>\n",
       "    </tr>\n",
       "    <tr>\n",
       "      <th>2</th>\n",
       "      <td>client1</td>\n",
       "      <td>1701465888</td>\n",
       "      <td>26652</td>\n",
       "    </tr>\n",
       "    <tr>\n",
       "      <th>3</th>\n",
       "      <td>client1</td>\n",
       "      <td>1701465889</td>\n",
       "      <td>27184</td>\n",
       "    </tr>\n",
       "    <tr>\n",
       "      <th>4</th>\n",
       "      <td>client1</td>\n",
       "      <td>1701465890</td>\n",
       "      <td>26712</td>\n",
       "    </tr>\n",
       "    <tr>\n",
       "      <th>...</th>\n",
       "      <td>...</td>\n",
       "      <td>...</td>\n",
       "      <td>...</td>\n",
       "    </tr>\n",
       "    <tr>\n",
       "      <th>356521</th>\n",
       "      <td>client2</td>\n",
       "      <td>1701584738</td>\n",
       "      <td>31556</td>\n",
       "    </tr>\n",
       "    <tr>\n",
       "      <th>356522</th>\n",
       "      <td>client3</td>\n",
       "      <td>1701584738</td>\n",
       "      <td>31560</td>\n",
       "    </tr>\n",
       "    <tr>\n",
       "      <th>356523</th>\n",
       "      <td>client1</td>\n",
       "      <td>1701584739</td>\n",
       "      <td>31550</td>\n",
       "    </tr>\n",
       "    <tr>\n",
       "      <th>356524</th>\n",
       "      <td>client2</td>\n",
       "      <td>1701584739</td>\n",
       "      <td>31559</td>\n",
       "    </tr>\n",
       "    <tr>\n",
       "      <th>356525</th>\n",
       "      <td>client3</td>\n",
       "      <td>1701584739</td>\n",
       "      <td>31563</td>\n",
       "    </tr>\n",
       "  </tbody>\n",
       "</table>\n",
       "<p>356526 rows × 3 columns</p>\n",
       "</div>"
      ],
      "text/plain": [
       "              0           1      2\n",
       "0       client1  1701465886  26716\n",
       "1       client1  1701465887  26668\n",
       "2       client1  1701465888  26652\n",
       "3       client1  1701465889  27184\n",
       "4       client1  1701465890  26712\n",
       "...         ...         ...    ...\n",
       "356521  client2  1701584738  31556\n",
       "356522  client3  1701584738  31560\n",
       "356523  client1  1701584739  31550\n",
       "356524  client2  1701584739  31559\n",
       "356525  client3  1701584739  31563\n",
       "\n",
       "[356526 rows x 3 columns]"
      ]
     },
     "execution_count": 3,
     "metadata": {},
     "output_type": "execute_result"
    }
   ],
   "source": [
    "df = pd.read_csv(\"results-new.csv\", header=None, delimiter=' ', )\n",
    "df"
   ]
  },
  {
   "cell_type": "code",
   "execution_count": 4,
   "metadata": {},
   "outputs": [],
   "source": [
    "df['client'] = df[0]\n",
    "df['sec'] = df[1]\n",
    "df['ms'] = df[2]\n",
    "df.drop(columns=[0,1,2], inplace=True)"
   ]
  },
  {
   "cell_type": "code",
   "execution_count": 5,
   "metadata": {},
   "outputs": [],
   "source": [
    "df1 = df[df['client'] == \"client1\"]\n",
    "df2 = df[df['client'] == \"client2\"]\n",
    "df3 = df[df['client'] == \"client3\"]"
   ]
  },
  {
   "cell_type": "code",
   "execution_count": 6,
   "id": "88b90221",
   "metadata": {},
   "outputs": [
    {
     "data": {
      "text/plain": [
       "1701465886"
      ]
     },
     "execution_count": 6,
     "metadata": {},
     "output_type": "execute_result"
    }
   ],
   "source": [
    "start_time = df['sec'].min()\n",
    "start_time"
   ]
  },
  {
   "cell_type": "code",
   "execution_count": 131,
   "metadata": {},
   "outputs": [
    {
     "data": {
      "image/png": "[encoded data removed]",
      "text/plain": [
       "<Figure size 400x250 with 1 Axes>"
      ]
     },
     "metadata": {},
     "output_type": "display_data"
    }
   ],
   "source": [
    "fig, ax = plt.subplots(1,1, figsize=(4,2.5))\n",
    "ax.scatter((df1[\"sec\"] - start_time)/3600, df1[\"ms\"]/1000, s=1, marker='x', label='Route 1')\n",
    "ax.scatter((df2[\"sec\"] - start_time)/3600, df2[\"ms\"]/1000, s=1, marker='.', label='Route 2')\n",
    "ax.scatter((df3[\"sec\"] - start_time)/3600, df3[\"ms\"]/1000, s=1, marker='^', label='Route 3')\n",
    "ax.legend(fontsize=12)\n",
    "ax.set_xlabel('Time (hour)', fontsize=14)\n",
    "ax.set_ylabel('Latency (ms)', fontsize=14)\n",
    "\n",
    "ax.tick_params(axis='x', labelsize=14)\n",
    "ax.tick_params(axis='y', labelsize=14)\n",
    "# ax.set_title('The Distribution of Latency between Two Data Centers')\n",
    "fig.savefig('latency.png', bbox_inches='tight')"
   ]
  },
  {
   "cell_type": "code",
   "execution_count": 8,
   "metadata": {},
   "outputs": [
    {
     "data": {
      "text/plain": [
       "client    356526\n",
       "sec       356526\n",
       "ms        356526\n",
       "dtype: int64"
      ]
     },
     "execution_count": 8,
     "metadata": {},
     "output_type": "execute_result"
    }
   ],
   "source": [
    "df[df['ms'] > 100000].count() / df.count()\n",
    "np.percentile(df['ms'], [0.1, 99, 99.9, 99.99])\n",
    "\n",
    "df.count()"
   ]
  },
  {
   "cell_type": "code",
   "execution_count": 9,
   "id": "0d740124",
   "metadata": {},
   "outputs": [
    {
     "data": {
      "text/plain": [
       "array([6.0000000e+00, 1.3000000e+02, 4.3076520e+03, 7.1578541e+03])"
      ]
     },
     "execution_count": 9,
     "metadata": {},
     "output_type": "execute_result"
    }
   ],
   "source": [
    "df12 = df2.merge(df1, on=\"sec\")\n",
    "df123 = df12.merge(df3, on='sec')\n",
    "# df123['maxdiff'] = df.apply(lambda row: max(np.abs(row['ms_x'] - row['ms_y']), np.abs(row['ms_x'] - row['ms']), np.abs(row['ms'] - row['ms_y'])))\n",
    "df123['maxdiff'] = np.maximum.reduce([\n",
    "    np.abs(df123['ms_x'] - df123['ms_y']),\n",
    "    np.abs(df123['ms_x'] - df123['ms']),\n",
    "    np.abs(df123['ms'] - df123['ms_y'])\n",
    "])\n",
    "np.percentile(df123['maxdiff'], [0.1, 99, 99.9, 99.99])\n"
   ]
  },
  {
   "cell_type": "code",
   "execution_count": 65,
   "id": "f644a314",
   "metadata": {},
   "outputs": [
    {
     "data": {
      "text/plain": [
       "(0.16666666666666666, 0.0005561116672227788)"
      ]
     },
     "execution_count": 65,
     "metadata": {},
     "output_type": "execute_result"
    }
   ],
   "source": [
    "alpha=0.3\n",
    "beta=6\n",
    "p_normal=0.999\n",
    "t_inter = 4310\n",
    "\n",
    "s_pen = 1 / beta\n",
    "s_awd = 1/alpha * s_pen * (1-p_normal) / p_normal\n",
    "\n",
    "s_pen, s_awd"
   ]
  },
  {
   "cell_type": "code",
   "execution_count": 66,
   "id": "4a05b573",
   "metadata": {},
   "outputs": [
    {
     "data": {
      "text/html": [
       "<div>\n",
       "<style scoped>\n",
       "    .dataframe tbody tr th:only-of-type {\n",
       "        vertical-align: middle;\n",
       "    }\n",
       "\n",
       "    .dataframe tbody tr th {\n",
       "        vertical-align: top;\n",
       "    }\n",
       "\n",
       "    .dataframe thead th {\n",
       "        text-align: right;\n",
       "    }\n",
       "</style>\n",
       "<table border=\"1\" class=\"dataframe\">\n",
       "  <thead>\n",
       "    <tr style=\"text-align: right;\">\n",
       "      <th></th>\n",
       "      <th>client_x</th>\n",
       "      <th>sec</th>\n",
       "      <th>ms_x</th>\n",
       "      <th>client_y</th>\n",
       "      <th>ms_y</th>\n",
       "      <th>client</th>\n",
       "      <th>ms</th>\n",
       "      <th>maxdiff</th>\n",
       "      <th>agreed</th>\n",
       "      <th>score_change_1</th>\n",
       "      <th>score_change_2</th>\n",
       "      <th>score_change_3</th>\n",
       "    </tr>\n",
       "  </thead>\n",
       "  <tbody>\n",
       "    <tr>\n",
       "      <th>0</th>\n",
       "      <td>client2</td>\n",
       "      <td>1701465894</td>\n",
       "      <td>26557</td>\n",
       "      <td>client1</td>\n",
       "      <td>26552</td>\n",
       "      <td>client3</td>\n",
       "      <td>26500</td>\n",
       "      <td>57</td>\n",
       "      <td>30810</td>\n",
       "      <td>0.000556</td>\n",
       "      <td>0.000556</td>\n",
       "      <td>0.000556</td>\n",
       "    </tr>\n",
       "    <tr>\n",
       "      <th>1</th>\n",
       "      <td>client2</td>\n",
       "      <td>1701465895</td>\n",
       "      <td>26543</td>\n",
       "      <td>client1</td>\n",
       "      <td>26537</td>\n",
       "      <td>client3</td>\n",
       "      <td>26471</td>\n",
       "      <td>72</td>\n",
       "      <td>30781</td>\n",
       "      <td>0.000556</td>\n",
       "      <td>0.000556</td>\n",
       "      <td>0.000556</td>\n",
       "    </tr>\n",
       "    <tr>\n",
       "      <th>2</th>\n",
       "      <td>client2</td>\n",
       "      <td>1701465896</td>\n",
       "      <td>26590</td>\n",
       "      <td>client1</td>\n",
       "      <td>26584</td>\n",
       "      <td>client3</td>\n",
       "      <td>26518</td>\n",
       "      <td>72</td>\n",
       "      <td>30828</td>\n",
       "      <td>0.000556</td>\n",
       "      <td>0.000556</td>\n",
       "      <td>0.000556</td>\n",
       "    </tr>\n",
       "    <tr>\n",
       "      <th>3</th>\n",
       "      <td>client2</td>\n",
       "      <td>1701465897</td>\n",
       "      <td>26707</td>\n",
       "      <td>client1</td>\n",
       "      <td>26698</td>\n",
       "      <td>client3</td>\n",
       "      <td>26748</td>\n",
       "      <td>50</td>\n",
       "      <td>31008</td>\n",
       "      <td>0.000556</td>\n",
       "      <td>0.000556</td>\n",
       "      <td>0.000556</td>\n",
       "    </tr>\n",
       "    <tr>\n",
       "      <th>4</th>\n",
       "      <td>client2</td>\n",
       "      <td>1701465898</td>\n",
       "      <td>26536</td>\n",
       "      <td>client1</td>\n",
       "      <td>26531</td>\n",
       "      <td>client3</td>\n",
       "      <td>26492</td>\n",
       "      <td>44</td>\n",
       "      <td>30802</td>\n",
       "      <td>0.000556</td>\n",
       "      <td>0.000556</td>\n",
       "      <td>0.000556</td>\n",
       "    </tr>\n",
       "    <tr>\n",
       "      <th>...</th>\n",
       "      <td>...</td>\n",
       "      <td>...</td>\n",
       "      <td>...</td>\n",
       "      <td>...</td>\n",
       "      <td>...</td>\n",
       "      <td>...</td>\n",
       "      <td>...</td>\n",
       "      <td>...</td>\n",
       "      <td>...</td>\n",
       "      <td>...</td>\n",
       "      <td>...</td>\n",
       "      <td>...</td>\n",
       "    </tr>\n",
       "    <tr>\n",
       "      <th>118833</th>\n",
       "      <td>client2</td>\n",
       "      <td>1701584735</td>\n",
       "      <td>31565</td>\n",
       "      <td>client1</td>\n",
       "      <td>31556</td>\n",
       "      <td>client3</td>\n",
       "      <td>31569</td>\n",
       "      <td>13</td>\n",
       "      <td>35866</td>\n",
       "      <td>0.000556</td>\n",
       "      <td>0.000556</td>\n",
       "      <td>0.000556</td>\n",
       "    </tr>\n",
       "    <tr>\n",
       "      <th>118834</th>\n",
       "      <td>client2</td>\n",
       "      <td>1701584736</td>\n",
       "      <td>31573</td>\n",
       "      <td>client1</td>\n",
       "      <td>31564</td>\n",
       "      <td>client3</td>\n",
       "      <td>31577</td>\n",
       "      <td>13</td>\n",
       "      <td>35874</td>\n",
       "      <td>0.000556</td>\n",
       "      <td>0.000556</td>\n",
       "      <td>0.000556</td>\n",
       "    </tr>\n",
       "    <tr>\n",
       "      <th>118835</th>\n",
       "      <td>client2</td>\n",
       "      <td>1701584737</td>\n",
       "      <td>31563</td>\n",
       "      <td>client1</td>\n",
       "      <td>31555</td>\n",
       "      <td>client3</td>\n",
       "      <td>31567</td>\n",
       "      <td>12</td>\n",
       "      <td>35865</td>\n",
       "      <td>0.000556</td>\n",
       "      <td>0.000556</td>\n",
       "      <td>0.000556</td>\n",
       "    </tr>\n",
       "    <tr>\n",
       "      <th>118836</th>\n",
       "      <td>client2</td>\n",
       "      <td>1701584738</td>\n",
       "      <td>31556</td>\n",
       "      <td>client1</td>\n",
       "      <td>31547</td>\n",
       "      <td>client3</td>\n",
       "      <td>31560</td>\n",
       "      <td>13</td>\n",
       "      <td>35857</td>\n",
       "      <td>0.000556</td>\n",
       "      <td>0.000556</td>\n",
       "      <td>0.000556</td>\n",
       "    </tr>\n",
       "    <tr>\n",
       "      <th>118837</th>\n",
       "      <td>client2</td>\n",
       "      <td>1701584739</td>\n",
       "      <td>31559</td>\n",
       "      <td>client1</td>\n",
       "      <td>31550</td>\n",
       "      <td>client3</td>\n",
       "      <td>31563</td>\n",
       "      <td>13</td>\n",
       "      <td>35860</td>\n",
       "      <td>0.000556</td>\n",
       "      <td>0.000556</td>\n",
       "      <td>0.000556</td>\n",
       "    </tr>\n",
       "  </tbody>\n",
       "</table>\n",
       "<p>118838 rows × 12 columns</p>\n",
       "</div>"
      ],
      "text/plain": [
       "       client_x         sec   ms_x client_y   ms_y   client     ms  maxdiff  \\\n",
       "0       client2  1701465894  26557  client1  26552  client3  26500       57   \n",
       "1       client2  1701465895  26543  client1  26537  client3  26471       72   \n",
       "2       client2  1701465896  26590  client1  26584  client3  26518       72   \n",
       "3       client2  1701465897  26707  client1  26698  client3  26748       50   \n",
       "4       client2  1701465898  26536  client1  26531  client3  26492       44   \n",
       "...         ...         ...    ...      ...    ...      ...    ...      ...   \n",
       "118833  client2  1701584735  31565  client1  31556  client3  31569       13   \n",
       "118834  client2  1701584736  31573  client1  31564  client3  31577       13   \n",
       "118835  client2  1701584737  31563  client1  31555  client3  31567       12   \n",
       "118836  client2  1701584738  31556  client1  31547  client3  31560       13   \n",
       "118837  client2  1701584739  31559  client1  31550  client3  31563       13   \n",
       "\n",
       "        agreed  score_change_1  score_change_2  score_change_3  \n",
       "0        30810        0.000556        0.000556        0.000556  \n",
       "1        30781        0.000556        0.000556        0.000556  \n",
       "2        30828        0.000556        0.000556        0.000556  \n",
       "3        31008        0.000556        0.000556        0.000556  \n",
       "4        30802        0.000556        0.000556        0.000556  \n",
       "...        ...             ...             ...             ...  \n",
       "118833   35866        0.000556        0.000556        0.000556  \n",
       "118834   35874        0.000556        0.000556        0.000556  \n",
       "118835   35865        0.000556        0.000556        0.000556  \n",
       "118836   35857        0.000556        0.000556        0.000556  \n",
       "118837   35860        0.000556        0.000556        0.000556  \n",
       "\n",
       "[118838 rows x 12 columns]"
      ]
     },
     "execution_count": 66,
     "metadata": {},
     "output_type": "execute_result"
    }
   ],
   "source": [
    "df123['agreed'] = np.minimum.reduce([df123['ms_y'], df123['ms_x'], df123['ms']]) + t_inter\n",
    "df123['score_change_1'] = np.where(df123['ms_x'] < df123['agreed'], s_awd, -s_pen)\n",
    "df123['score_change_2'] = np.where(df123['ms_y'] < df123['agreed'], s_awd, -s_pen)\n",
    "df123['score_change_3'] = np.where(df123['ms'] < df123['agreed'], s_awd, -s_pen)\n",
    "df123"
   ]
  },
  {
   "cell_type": "code",
   "execution_count": 67,
   "id": "e18a79d8",
   "metadata": {},
   "outputs": [],
   "source": [
    "def score_trend(sc):\n",
    "    trend = [1]\n",
    "    cur = 1\n",
    "    for change in sc:\n",
    "        cur+=change\n",
    "        if cur > 1:\n",
    "            cur = 1\n",
    "        trend.append(cur)\n",
    "    return trend\n"
   ]
  },
  {
   "cell_type": "code",
   "execution_count": 68,
   "id": "b079e85c",
   "metadata": {},
   "outputs": [],
   "source": [
    "sc1 = df123['score_change_1']\n",
    "sc2 = df123['score_change_2']\n",
    "sc3 = df123['score_change_3']\n",
    "\n",
    "s1 = score_trend(sc1)\n",
    "s2 = score_trend(sc2)\n",
    "s3 = score_trend(sc3)"
   ]
  },
  {
   "cell_type": "code",
   "execution_count": 130,
   "metadata": {},
   "outputs": [
    {
     "data": {
      "image/png": "[encoded data removed]",
      "text/plain": [
       "<Figure size 600x250 with 1 Axes>"
      ]
     },
     "metadata": {},
     "output_type": "display_data"
    }
   ],
   "source": [
    "fig, ax = plt.subplots(1, 1, figsize=(6,2.5))\n",
    "xaxis = np.arange(len(s1))/3600\n",
    "ax.plot(xaxis, s1, label='Courier #1')\n",
    "ax.plot(xaxis, s2, label='Courier #2')\n",
    "ax.plot(xaxis, s3, label='Courier #3')\n",
    "ax.set_ylim(0, 1.25)\n",
    "ax.set_xlim(0,24)\n",
    "ax.legend(fontsize=11)\n",
    "# ax.set_title('The reputation change of three couriers')\n",
    "ax.set_xlabel('Hours', fontsize=14)\n",
    "ax.set_ylabel('Reputation Score', fontsize=14)\n",
    "ax.tick_params(axis='x', labelsize=14)\n",
    "ax.tick_params(axis='y', labelsize=14)\n",
    "fig.savefig('score-change.pdf', bbox_inches='tight')"
   ]
  }
 ],
 "metadata": {
  "kernelspec": {
   "display_name": "Python 3",
   "language": "python",
   "name": "python3"
  },
  "language_info": {
   "codemirror_mode": {
    "name": "ipython",
    "version": 3
   },
   "file_extension": ".py",
   "mimetype": "text/x-python",
   "name": "python",
   "nbconvert_exporter": "python",
   "pygments_lexer": "ipython3",
   "version": "3.9.13"
  },
  "vscode": {
   "interpreter": {
    "hash": "e7370f93d1d0cde622a1f8e1c04877d8463912d04d973331ad4851f04de6915a"
   }
  }
 },
 "nbformat": 4,
 "nbformat_minor": 5
}
