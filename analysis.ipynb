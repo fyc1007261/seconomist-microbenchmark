{
 "cells": [
  {
   "cell_type": "code",
   "execution_count": 14,
   "id": "dfe1e97b",
   "metadata": {},
   "outputs": [],
   "source": [
    "import pandas as pd\n",
    "import numpy as np\n",
    "import matplotlib.pyplot as plt"
   ]
  },
  {
   "cell_type": "code",
   "execution_count": 6,
   "metadata": {},
   "outputs": [],
   "source": [
    "# line = \" \" \n",
    "# with open(\"results.csv\", 'r') as f:\n",
    "#     with open(\"results-new.csv\", 'w') as fout:\n",
    "#         while line != None:\n",
    "#             # try:\n",
    "#             line = f.readline()\n",
    "#             if line[0:6] == \"client\":\n",
    "#                 fout.write(line)\n",
    "#             # except Exception as e:\n",
    "#             #     f.seek()\n"
   ]
  },
  {
   "cell_type": "code",
   "execution_count": 7,
   "metadata": {},
   "outputs": [
    {
     "data": {
      "text/html": [
       "<div>\n",
       "<style scoped>\n",
       "    .dataframe tbody tr th:only-of-type {\n",
       "        vertical-align: middle;\n",
       "    }\n",
       "\n",
       "    .dataframe tbody tr th {\n",
       "        vertical-align: top;\n",
       "    }\n",
       "\n",
       "    .dataframe thead th {\n",
       "        text-align: right;\n",
       "    }\n",
       "</style>\n",
       "<table border=\"1\" class=\"dataframe\">\n",
       "  <thead>\n",
       "    <tr style=\"text-align: right;\">\n",
       "      <th></th>\n",
       "      <th>0</th>\n",
       "      <th>1</th>\n",
       "      <th>2</th>\n",
       "    </tr>\n",
       "  </thead>\n",
       "  <tbody>\n",
       "    <tr>\n",
       "      <th>0</th>\n",
       "      <td>client1</td>\n",
       "      <td>1701465886</td>\n",
       "      <td>26716</td>\n",
       "    </tr>\n",
       "    <tr>\n",
       "      <th>1</th>\n",
       "      <td>client1</td>\n",
       "      <td>1701465887</td>\n",
       "      <td>26668</td>\n",
       "    </tr>\n",
       "    <tr>\n",
       "      <th>2</th>\n",
       "      <td>client1</td>\n",
       "      <td>1701465888</td>\n",
       "      <td>26652</td>\n",
       "    </tr>\n",
       "    <tr>\n",
       "      <th>3</th>\n",
       "      <td>client1</td>\n",
       "      <td>1701465889</td>\n",
       "      <td>27184</td>\n",
       "    </tr>\n",
       "    <tr>\n",
       "      <th>4</th>\n",
       "      <td>client1</td>\n",
       "      <td>1701465890</td>\n",
       "      <td>26712</td>\n",
       "    </tr>\n",
       "    <tr>\n",
       "      <th>...</th>\n",
       "      <td>...</td>\n",
       "      <td>...</td>\n",
       "      <td>...</td>\n",
       "    </tr>\n",
       "    <tr>\n",
       "      <th>356521</th>\n",
       "      <td>client2</td>\n",
       "      <td>1701584738</td>\n",
       "      <td>31556</td>\n",
       "    </tr>\n",
       "    <tr>\n",
       "      <th>356522</th>\n",
       "      <td>client3</td>\n",
       "      <td>1701584738</td>\n",
       "      <td>31560</td>\n",
       "    </tr>\n",
       "    <tr>\n",
       "      <th>356523</th>\n",
       "      <td>client1</td>\n",
       "      <td>1701584739</td>\n",
       "      <td>31550</td>\n",
       "    </tr>\n",
       "    <tr>\n",
       "      <th>356524</th>\n",
       "      <td>client2</td>\n",
       "      <td>1701584739</td>\n",
       "      <td>31559</td>\n",
       "    </tr>\n",
       "    <tr>\n",
       "      <th>356525</th>\n",
       "      <td>client3</td>\n",
       "      <td>1701584739</td>\n",
       "      <td>31563</td>\n",
       "    </tr>\n",
       "  </tbody>\n",
       "</table>\n",
       "<p>356526 rows × 3 columns</p>\n",
       "</div>"
      ],
      "text/plain": [
       "              0           1      2\n",
       "0       client1  1701465886  26716\n",
       "1       client1  1701465887  26668\n",
       "2       client1  1701465888  26652\n",
       "3       client1  1701465889  27184\n",
       "4       client1  1701465890  26712\n",
       "...         ...         ...    ...\n",
       "356521  client2  1701584738  31556\n",
       "356522  client3  1701584738  31560\n",
       "356523  client1  1701584739  31550\n",
       "356524  client2  1701584739  31559\n",
       "356525  client3  1701584739  31563\n",
       "\n",
       "[356526 rows x 3 columns]"
      ]
     },
     "execution_count": 7,
     "metadata": {},
     "output_type": "execute_result"
    }
   ],
   "source": [
    "df = pd.read_csv(\"results-new.csv\", header=None, delimiter=' ', )\n",
    "df"
   ]
  },
  {
   "cell_type": "code",
   "execution_count": 8,
   "metadata": {},
   "outputs": [],
   "source": [
    "df['client'] = df[0]\n",
    "df['sec'] = df[1]\n",
    "df['ms'] = df[2]\n",
    "df.drop(columns=[0,1,2], inplace=True)"
   ]
  },
  {
   "cell_type": "code",
   "execution_count": 9,
   "metadata": {},
   "outputs": [],
   "source": [
    "df1 = df[df['client'] == \"client1\"]\n",
    "df2 = df[df['client'] == \"client2\"]\n",
    "df3 = df[df['client'] == \"client3\"]"
   ]
  },
  {
   "cell_type": "code",
   "execution_count": 10,
   "id": "88b90221",
   "metadata": {},
   "outputs": [
    {
     "data": {
      "text/plain": [
       "1701465886"
      ]
     },
     "execution_count": 10,
     "metadata": {},
     "output_type": "execute_result"
    }
   ],
   "source": [
    "start_time = df['sec'].min()\n",
    "start_time"
   ]
  },
  {
   "cell_type": "code",
   "execution_count": 69,
   "metadata": {},
   "outputs": [
    {
     "data": {
      "image/png": "[encoded data removed]",
      "text/plain": [
       "<Figure size 400x250 with 1 Axes>"
      ]
     },
     "metadata": {},
     "output_type": "display_data"
    }
   ],
   "source": [
    "fig, ax = plt.subplots(1,1, figsize=(4,2.5))\n",
    "ax.scatter((df1[\"sec\"] - start_time)/3600, df1[\"ms\"]/1000, s=1, marker='x', label='Route 1')\n",
    "ax.scatter((df2[\"sec\"] - start_time)/3600, df2[\"ms\"]/1000, s=1, marker='.', label='Route 2')\n",
    "ax.scatter((df3[\"sec\"] - start_time)/3600, df3[\"ms\"]/1000, s=1, marker='^', label='Route 3')\n",
    "ax.legend(fontsize=12)\n",
    "ax.set_xlabel('Time (hour)', fontsize=14)\n",
    "ax.set_ylabel('Latency (ms)', fontsize=14)\n",
    "\n",
    "ax.tick_params(axis='x', labelsize=14)\n",
    "ax.tick_params(axis='y', labelsize=14)\n",
    "# ax.set_title('The Distribution of Latency between Two Data Centers')\n",
    "fig.savefig('latency.pdf', bbox_inches='tight')"
   ]
  },
  {
   "cell_type": "code",
   "execution_count": 22,
   "metadata": {},
   "outputs": [
    {
     "data": {
      "text/plain": [
       "client    356526\n",
       "sec       356526\n",
       "ms        356526\n",
       "dtype: int64"
      ]
     },
     "execution_count": 22,
     "metadata": {},
     "output_type": "execute_result"
    }
   ],
   "source": [
    "df[df['ms'] > 100000].count() / df.count()\n",
    "np.percentile(df['ms'], [0.1, 99, 99.9, 99.99])\n",
    "\n",
    "df.count()"
   ]
  },
  {
   "cell_type": "code",
   "execution_count": 66,
   "id": "0d740124",
   "metadata": {},
   "outputs": [
    {
     "data": {
      "text/plain": [
       "array([6.0000000e+00, 1.3000000e+02, 4.3076520e+03, 7.1578541e+03])"
      ]
     },
     "execution_count": 66,
     "metadata": {},
     "output_type": "execute_result"
    }
   ],
   "source": [
    "df12 = df2.merge(df1, on=\"sec\")\n",
    "df123 = df12.merge(df3, on='sec')\n",
    "# df123['maxdiff'] = df.apply(lambda row: max(np.abs(row['ms_x'] - row['ms_y']), np.abs(row['ms_x'] - row['ms']), np.abs(row['ms'] - row['ms_y'])))\n",
    "df123['maxdiff'] = np.maximum.reduce([\n",
    "    np.abs(df123['ms_x'] - df123['ms_y']),\n",
    "    np.abs(df123['ms_x'] - df123['ms']),\n",
    "    np.abs(df123['ms'] - df123['ms_y'])\n",
    "])\n",
    "np.percentile(df123['maxdiff'], [0.1, 99, 99.9, 99.99])\n"
   ]
  },
  {
   "cell_type": "code",
   "execution_count": null,
   "id": "f644a314",
   "metadata": {},
   "outputs": [],
   "source": []
  }
 ],
 "metadata": {
  "kernelspec": {
   "display_name": "Python 3",
   "language": "python",
   "name": "python3"
  },
  "language_info": {
   "codemirror_mode": {
    "name": "ipython",
    "version": 3
   },
   "file_extension": ".py",
   "mimetype": "text/x-python",
   "name": "python",
   "nbconvert_exporter": "python",
   "pygments_lexer": "ipython3",
   "version": "3.11.4"
  },
  "vscode": {
   "interpreter": {
    "hash": "e7370f93d1d0cde622a1f8e1c04877d8463912d04d973331ad4851f04de6915a"
   }
  }
 },
 "nbformat": 4,
 "nbformat_minor": 5
}
